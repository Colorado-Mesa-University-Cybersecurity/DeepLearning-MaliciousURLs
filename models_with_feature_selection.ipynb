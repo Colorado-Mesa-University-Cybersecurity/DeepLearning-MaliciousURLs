{
  "nbformat": 4,
  "nbformat_minor": 0,
  "metadata": {
    "language_info": {
      "codemirror_mode": {
        "name": "ipython",
        "version": 3
      },
      "file_extension": ".py",
      "mimetype": "text/x-python",
      "name": "python",
      "nbconvert_exporter": "python",
      "pygments_lexer": "ipython3",
      "version": "3.8.3-final"
    },
    "orig_nbformat": 2,
    "kernelspec": {
      "name": "python_defaultSpec_1598549735847",
      "display_name": "Python 3.8.3 64-bit ('base': conda)"
    },
    "colab": {
      "name": "models with feature selection.ipynb",
      "provenance": [],
      "collapsed_sections": []
    }
  },
  "cells": [
    {
      "cell_type": "code",
      "metadata": {
        "tags": [],
        "id": "GGiJraoIKFJ-",
        "colab_type": "code",
        "colab": {
          "base_uri": "https://localhost:8080/",
          "height": 34
        },
        "outputId": "bbe4cda6-55fe-47c3-d4d0-3fa3da95d283"
      },
      "source": [
        "# Import the dataset saved on the google drive\n",
        "from google.colab import drive\n",
        "\n",
        "# Graphing capabilities\n",
        "import matplotlib.pyplot as plt\n",
        "\n",
        "# Data management\n",
        "import pandas as pd\n",
        "import numpy as np\n",
        "\n",
        "# For stratified 10-fold cross validation\n",
        "from sklearn.model_selection import StratifiedKFold\n",
        "\n",
        "# Scikit-Learn ML Models\n",
        "from sklearn.ensemble import RandomForestClassifier\n",
        "from sklearn.tree import DecisionTreeClassifier\n",
        "from sklearn.neighbors import KNeighborsClassifier\n",
        "from sklearn.svm import SVC\n",
        "from sklearn.linear_model import LogisticRegression\n",
        "from sklearn.discriminant_analysis import LinearDiscriminantAnalysis\n",
        "from sklearn.ensemble import AdaBoostClassifier\n",
        "from sklearn.naive_bayes import GaussianNB\n",
        "\n",
        "# Keras-TensorFlow DNN Model\n",
        "from keras.models import Sequential\n",
        "from keras.layers import BatchNormalization, Dense, Dropout\n",
        "from keras.regularizers import l2\n",
        "\n",
        "# Fast.ai DNN Model\n",
        "from fastai.tabular import *\n",
        "\n",
        "# Normalization\n",
        "from keras.utils import normalize, to_categorical\n",
        "\n",
        "print('Imports complete.')"
      ],
      "execution_count": 1,
      "outputs": [
        {
          "output_type": "stream",
          "text": [
            "Imports complete.\n"
          ],
          "name": "stdout"
        }
      ]
    },
    {
      "cell_type": "markdown",
      "metadata": {
        "id": "fQYKlqkpLDMd",
        "colab_type": "text"
      },
      "source": [
        "## Functions Used\n"
      ]
    },
    {
      "cell_type": "code",
      "metadata": {
        "id": "JbAgDpjvKFKU",
        "colab_type": "code",
        "colab": {}
      },
      "source": [
        "def train_and_eval_on(X, y, feature_set):\n",
        "    \"\"\"\n",
        "    train_and_eval_on function\n",
        "        Description: This function will train all the models on the given feature set of the X (data) for predicting y (target)\n",
        "\n",
        "        Args: \n",
        "            X => pd.DataFrame object containing the data\n",
        "            y => pd.Series object containings the target classifications\n",
        "            feature_set => list of features in X to use for training\n",
        "\n",
        "        Returns:\n",
        "            metrics => dictionary where the model names are the key and a list of accuracies across all folds is the value\n",
        "                    Keys:\n",
        "                        Random Forest => rf\n",
        "                        Decision Tree => dt\n",
        "                        k-Nearest Neighbors => knn\n",
        "                        Support Vector Machine => svm\n",
        "                        Logistic Regression => lr\n",
        "                        Linear Discriminant Analysis => lda\n",
        "                        AdaBoost => ab\n",
        "                        Naive Bayes => nb\n",
        "                        Keras-TensorFlow => keras\n",
        "                        Fast.ai => fastai\n",
        "    \"\"\"\n",
        "    metrics = {'rf':[],\n",
        "                'dt':[],\n",
        "                'knn':[],\n",
        "                'svm':[],\n",
        "                'lr':[],\n",
        "                'lda':[],\n",
        "                'ab':[],\n",
        "                'nb':[],\n",
        "                'keras':[],\n",
        "                'fastai':[]}\n",
        "\n",
        "    # Select the given features within the data\n",
        "    X = X[feature_set]\n",
        "\n",
        "    print('Training with {} features'.format(len(X.columns)))\n",
        "\n",
        "    # Create stratified, 10-fold cross validation object\n",
        "    random_state = 0\n",
        "    sss = StratifiedKFold(n_splits=10, shuffle=True, random_state=random_state)\n",
        "\n",
        "    # Experiment with 10-fold cross validation\n",
        "    for train_idx, test_idx in sss.split(X, y):\n",
        "        # Split the data into the training and testing sets\n",
        "        X_train, X_test = X.iloc[train_idx], X.iloc[test_idx]\n",
        "        y_train, y_test = y.iloc[train_idx], y.iloc[test_idx]\n",
        "        \n",
        "        # Random Forest Model\n",
        "        rf = RandomForestClassifier(random_state=random_state)\n",
        "        rf.fit(X_train, y_train)\n",
        "        score = rf.score(X_test, y_test)\n",
        "        metrics['rf'].append(score)\n",
        "\n",
        "        \"\"\"# Decision Tree Model\n",
        "        dt = DecisionTreeClassifier(random_state=random_state)\n",
        "        dt.fit(X_train, y_train)\n",
        "        score = dt.score(X_test, y_test)\n",
        "        metrics['dt'].append(score)\n",
        "\n",
        "        # k-Nearest Neighbors Model\n",
        "        knn = KNeighborsClassifier()\n",
        "        knn.fit(X_train, y_train)\n",
        "        score = knn.score(X_test, y_test)\n",
        "        metrics['knn'].append(score)\n",
        "\n",
        "        # Support Vector Machine Model\n",
        "        svm = SVC(random_state=random_state)\n",
        "        svm.fit(X_train, y_train)\n",
        "        score = svm.score(X_test, y_test)\n",
        "        metrics['svm'].append(score)\n",
        "\n",
        "        # Logistic Regression Model\n",
        "        lr = LogisticRegression(random_state=random_state)\n",
        "        lr.fit(X_train, y_train)\n",
        "        score = lr.score(X_test, y_test)\n",
        "        metrics['lr'].append(score)\n",
        "\n",
        "        # Linear Discriminant Analysis Model\n",
        "        lda = LinearDiscriminantAnalysis()\n",
        "        lda.fit(X_train, y_train)\n",
        "        score = lda.score(X_test, y_test)\n",
        "        metrics['lda'].append(score)\n",
        "\n",
        "        # AdaBoost Model\n",
        "        ab = AdaBoostClassifier(random_state=random_state)\n",
        "        ab.fit(X_train, y_train)\n",
        "        score = ab.score(X_test, y_test)\n",
        "        metrics['ab'].append(score)\n",
        "\n",
        "        # Naive Bayes Model\n",
        "        nb = GaussianNB()\n",
        "        nb.fit(X_train, y_train)\n",
        "        score = nb.score(X_test, y_test)\n",
        "        metrics['nb'].append(score)\"\"\"\n",
        "\n",
        "        # Keras-TensorFlow DNN Model\n",
        "        dnn_keras = Sequential(layers=[\n",
        "                                 Dense(128, kernel_regularizer=l2(0.001), activation='relu',input_shape=(len(X_train.columns),)),\n",
        "                                 BatchNormalization(),\n",
        "                                 Dense(64, activation='relu', kernel_regularizer=l2(0.001)),\n",
        "                                 BatchNormalization(),\n",
        "                                 Dense(y_train.nunique(), activation='softmax')\n",
        "        ])\n",
        "        dnn_keras.compile(\n",
        "            optimizer='adam', \n",
        "            loss='categorical_crossentropy', \n",
        "            metrics=['accuracy'])\n",
        "        dnn_keras.fit(X_train, pd.get_dummies(y_train), epochs=100, verbose=0, batch_size=512)\n",
        "        _, score = dnn_keras.evaluate(X_test, pd.get_dummies(y_test), verbose=0)\n",
        "        metrics['keras'].append(score)\n",
        "\n",
        "        # Fast.ai DNN Model\n",
        "        data_fold = (TabularList.from_df(df, path=path, cont_names=X_train.columns, procs=[Categorify, Normalize])\n",
        "                     .split_by_idxs(train_idx, test_idx)\n",
        "                     .label_from_df(cols=dep_var)\n",
        "                     .databunch(num_workers=0))\n",
        "        dnn_fastai = tabular_learner(data_fold, layers=[200, 100], metrics=accuracy)\n",
        "        dnn_fastai.fit_one_cycle(cyc_len=10, callbacks=None)\n",
        "        _, score = dnn_fastai.validate()\n",
        "        metrics['fastai'].append(score)\n",
        "\n",
        "    return metrics"
      ],
      "execution_count": 2,
      "outputs": []
    },
    {
      "cell_type": "code",
      "metadata": {
        "id": "LDmSCPgDM-WZ",
        "colab_type": "code",
        "colab": {}
      },
      "source": [
        "def show_graph(figure, feature_count, metrics_dict, exp_type=''):\n",
        "  \"\"\"\n",
        "  show_graph function\n",
        "\n",
        "    Description: This function will take the metrics dictionary provided and update the graph already to show the most recent results\n",
        "\n",
        "    Args:\n",
        "      figure => matplotlib.pyplot.figure object\n",
        "      metrics_dict => dictionary of metrics as described in `train_and_eval_on` function\n",
        "      exp_type => string indicating the type of experiment to change the title of the graph\n",
        "\n",
        "    Returns:\n",
        "      nothing\n",
        "  \"\"\"\n",
        "  # Reorganize the data so we have all of the random forest metrics with increasing features side by side\n",
        "  reorganized_dictionary = {}\n",
        "\n",
        "  for feature_vals in metrics_dict.keys():\n",
        "    for key in metrics_dict[feature_vals].keys():\n",
        "      # If a given model is not in the new dictionary, add it\n",
        "      if key not in reorganized_dictionary:\n",
        "        reorganized_dictionary[key] = {}\n",
        "\n",
        "      # If there isn't a specific feature number in the model dictionary, add it\n",
        "      if feature_vals not in reorganized_dictionary[key]:\n",
        "        reorganized_dictionary[key][feature_vals] = []\n",
        "\n",
        "      # If there is anything to the record, add it\n",
        "      if len( metrics_dict[feature_vals][key] ) > 0:\n",
        "        accuracies = metrics_dict[feature_vals][key]\n",
        "        mean = np.mean(accuracies)\n",
        "        std = np.std(accuracies)\n",
        "\n",
        "        #print('Accuracies: {}'.format(accuracies))\n",
        "        #print('Mean: {}'.format(mean))\n",
        "        #print('Std: {}'.format(std))\n",
        "\n",
        "        reorganized_dictionary[key][feature_vals].append( [mean, std] ) \n",
        "\n",
        "  #print('Models: {}'.format( list(reorganized_dictionary.keys()) ))\n",
        "\n",
        "  for model in reorganized_dictionary.keys():\n",
        "    # The x-axis will have the feature_count\n",
        "    xs = []\n",
        "\n",
        "    # The y-axis will have the accuracy for that feature_count value\n",
        "    ys = []\n",
        "\n",
        "    # The y-axis will also have the std for these accuracies since they are accumulated over 10 folds\n",
        "    yerrs = []\n",
        "\n",
        "    for x in reorganized_dictionary[model].keys():\n",
        "      if len(reorganized_dictionary[model][x]) > 0:\n",
        "        xs.append(x)\n",
        "        ys.append(reorganized_dictionary[model][x][0][0])\n",
        "        yerrs.append(reorganized_dictionary[model][x][0][1])\n",
        "    #print('xs: {}'.format(xs))\n",
        "    #print('ys: {}'.format(ys))\n",
        "    if len(xs) > 0:\n",
        "      plt.errorbar(x=xs, y=ys, yerr=yerrs, label=model)\n",
        "\n",
        "  #print(reorganized_dictionary)\n",
        "  if exp_type == 'multi':\n",
        "    plt.title('Multi-class Classification Model Accuracies with Increasing Features')\n",
        "  elif exp_type == 'binary':\n",
        "    plt.title('Binary Classification Model Accuracies with Increasing Features')\n",
        "  plt.ylabel('Accuracy')\n",
        "  plt.xlabel('Number of Features')\n",
        "\n",
        "  plt.xticks(xs[4::5])\n",
        "\n",
        "  plt.legend()\n",
        "  plt.show()\n"
      ],
      "execution_count": 3,
      "outputs": []
    },
    {
      "cell_type": "markdown",
      "metadata": {
        "id": "fUHx26nlKFKi",
        "colab_type": "text"
      },
      "source": [
        "## Data Preparation"
      ]
    },
    {
      "cell_type": "code",
      "metadata": {
        "id": "x99zWY_9KFKj",
        "colab_type": "code",
        "colab": {
          "base_uri": "https://localhost:8080/",
          "height": 34
        },
        "outputId": "fe84dffb-089b-426b-a9e0-e51fd4dc1ffa"
      },
      "source": [
        "# These are the best features for multi-class experiment provided from the feature selection jupyter notebook\n",
        "best_features_multiclass = ['Entropy_URL', 'Path_LongestWordLength', 'dld_domain',\n",
        "       'sub-Directory_LongestWordLength', 'isPortEighty', 'avgpathtokenlen',\n",
        "       'host_letter_count', 'Entropy_Domain', 'domainlength', 'ldl_domain',\n",
        "       'longdomaintokenlen', 'URL_sensitiveWord', 'Directory_LetterCount',\n",
        "       'Directory_DigitCount', 'NumberofDotsinURL', 'Domain_LongestWordLength',\n",
        "       'delimeter_Domain', 'NumberRate_DirectoryName', 'File_name_DigitCount',\n",
        "       'path_token_count', 'avgdomaintokenlen', 'SymbolCount_Directoryname',\n",
        "       'ldl_filename', 'dld_filename', 'Entropy_Extension',\n",
        "       'Filename_LetterCount', 'pathurlRatio', 'executable', 'spcharUrl',\n",
        "       'CharacterContinuityRate', 'charcompvowels',\n",
        "       'Arguments_LongestWordLength', 'delimeter_path',\n",
        "       'Entropy_DirectoryName', 'Entropy_Filename', 'SymbolCount_URL',\n",
        "       'NumberRate_FileName', 'NumberRate_Extension', 'domainUrlRatio',\n",
        "       'SymbolCount_FileName', 'pathDomainRatio', 'URL_Letter_Count',\n",
        "       'SymbolCount_Afterpath', 'host_DigitCount', 'charcompace', 'urlLen',\n",
        "       'subDirLen', 'pathLength', 'this.fileExtLen', 'SymbolCount_Extension',\n",
        "       'tld', 'domain_token_count', 'SymbolCount_Domain', 'NumberRate_URL',\n",
        "       'delimeter_Count', 'fileNameLen', 'URLQueries_variable',\n",
        "       'LongestPathTokenLength', 'URL_DigitCount', 'dld_url', 'argDomanRatio',\n",
        "       'Extension_LetterCount', 'dld_path', 'ldl_url', 'ArgLen', 'ldl_path',\n",
        "       'Query_LetterCount', 'Querylength', 'LongestVariableValue',\n",
        "       'Query_DigitCount', 'ldl_getArg', 'dld_getArg', 'Extension_DigitCount',\n",
        "       'ArgUrlRatio', 'NumberRate_Domain', 'NumberRate_AfterPath',\n",
        "       'argPathRatio', 'Entropy_Afterpath']\n",
        "\n",
        "# I need to reverse the array because the data is sorted in order of decreasing p-values, which is the order of increasing importance\n",
        "best_features_multiclass.reverse()\n",
        "print(best_features_multiclass[:4])"
      ],
      "execution_count": 4,
      "outputs": [
        {
          "output_type": "stream",
          "text": [
            "['Entropy_Afterpath', 'argPathRatio', 'NumberRate_AfterPath', 'NumberRate_Domain']\n"
          ],
          "name": "stdout"
        }
      ]
    },
    {
      "cell_type": "markdown",
      "metadata": {
        "id": "e1oB1IhaKFKs",
        "colab_type": "text"
      },
      "source": [
        "## Data Preparation"
      ]
    },
    {
      "cell_type": "code",
      "metadata": {
        "id": "DIoBo8BsKPMR",
        "colab_type": "code",
        "colab": {
          "base_uri": "https://localhost:8080/",
          "height": 34
        },
        "outputId": "c73cf494-feca-4f7b-9757-8c3d29d4b01d"
      },
      "source": [
        "# Set up google drive access\n",
        "drive.mount('/content/gdrive')"
      ],
      "execution_count": 5,
      "outputs": [
        {
          "output_type": "stream",
          "text": [
            "Drive already mounted at /content/gdrive; to attempt to forcibly remount, call drive.mount(\"/content/gdrive\", force_remount=True).\n"
          ],
          "name": "stdout"
        }
      ]
    },
    {
      "cell_type": "code",
      "metadata": {
        "tags": [],
        "id": "jJ62Jh9HKFKu",
        "colab_type": "code",
        "colab": {
          "base_uri": "https://localhost:8080/",
          "height": 173
        },
        "outputId": "431e14ab-610e-4dc7-e4c9-d9f54d0843d4"
      },
      "source": [
        "# Import the data\n",
        "path = '/content/gdrive/My Drive/FinalDataset/'\n",
        "fille = 'All.csv'\n",
        "df = pd.read_csv(path + fille)\n",
        "print('Data Read:')\n",
        "print(df.head())"
      ],
      "execution_count": 6,
      "outputs": [
        {
          "output_type": "stream",
          "text": [
            "Data Read:\n",
            "   Querylength  domain_token_count  ...  Entropy_Afterpath  URL_Type_obf_Type\n",
            "0            0                   4  ...               -1.0         Defacement\n",
            "1            0                   4  ...               -1.0         Defacement\n",
            "2            0                   4  ...               -1.0         Defacement\n",
            "3            0                   4  ...               -1.0         Defacement\n",
            "4            0                   4  ...               -1.0         Defacement\n",
            "\n",
            "[5 rows x 80 columns]\n"
          ],
          "name": "stdout"
        }
      ]
    },
    {
      "cell_type": "code",
      "metadata": {
        "tags": [],
        "id": "0hm6KhlmKFK2",
        "colab_type": "code",
        "colab": {
          "base_uri": "https://localhost:8080/",
          "height": 34
        },
        "outputId": "7af3d23a-3bf1-4614-e38a-740f37e0474c"
      },
      "source": [
        "dep_var = 'URL_Type_obf_Type'\n",
        "\n",
        "print('There are {} columns and {} rows in the provided data.'.format(len(df.columns), len(df)))"
      ],
      "execution_count": 7,
      "outputs": [
        {
          "output_type": "stream",
          "text": [
            "There are 80 columns and 36697 rows in the provided data.\n"
          ],
          "name": "stdout"
        }
      ]
    },
    {
      "cell_type": "code",
      "metadata": {
        "tags": [],
        "id": "NulvLK_lKFK-",
        "colab_type": "code",
        "colab": {
          "base_uri": "https://localhost:8080/",
          "height": 139
        },
        "outputId": "0861cbcf-dc53-486c-ba89-26b8429b46ec"
      },
      "source": [
        "print('Below is the dataset\\'s composition')\n",
        "print(df[dep_var].value_counts())"
      ],
      "execution_count": 8,
      "outputs": [
        {
          "output_type": "stream",
          "text": [
            "Below is the dataset's composition\n",
            "Defacement    7930\n",
            "benign        7781\n",
            "phishing      7577\n",
            "malware       6711\n",
            "spam          6698\n",
            "Name: URL_Type_obf_Type, dtype: int64\n"
          ],
          "name": "stdout"
        }
      ]
    },
    {
      "cell_type": "code",
      "metadata": {
        "id": "KC4QqIZuKFLH",
        "colab_type": "code",
        "colab": {}
      },
      "source": [
        "# Removes all rows if they contain NaN values\n",
        "df.dropna(axis='index', inplace=True)"
      ],
      "execution_count": 9,
      "outputs": []
    },
    {
      "cell_type": "code",
      "metadata": {
        "tags": [],
        "id": "nr-obfDNKFLO",
        "colab_type": "code",
        "colab": {
          "base_uri": "https://localhost:8080/",
          "height": 156
        },
        "outputId": "22213b3c-bb92-429c-ffdc-065faee1d602"
      },
      "source": [
        "print('There are {} columns and {} rows in the provided data.'.format(len(df.columns), len(df)))\n",
        "\n",
        "print('Below is the dataset\\'s composition')\n",
        "print(df[dep_var].value_counts())"
      ],
      "execution_count": 10,
      "outputs": [
        {
          "output_type": "stream",
          "text": [
            "There are 80 columns and 18982 rows in the provided data.\n",
            "Below is the dataset's composition\n",
            "spam          5342\n",
            "malware       4440\n",
            "phishing      4014\n",
            "benign        2709\n",
            "Defacement    2477\n",
            "Name: URL_Type_obf_Type, dtype: int64\n"
          ],
          "name": "stdout"
        }
      ]
    },
    {
      "cell_type": "code",
      "metadata": {
        "id": "rzNNaPLkXrcA",
        "colab_type": "code",
        "colab": {}
      },
      "source": [
        " # Drop the benign category\n",
        "df.drop( df.loc[ df[dep_var] == 'benign'].index, axis=0, inplace=True)"
      ],
      "execution_count": 11,
      "outputs": []
    },
    {
      "cell_type": "code",
      "metadata": {
        "id": "C_7U8WobYzTs",
        "colab_type": "code",
        "colab": {
          "base_uri": "https://localhost:8080/",
          "height": 139
        },
        "outputId": "37608e30-8c5b-48bc-b6b7-86e08dbedd1c"
      },
      "source": [
        "print('There are {} columns and {} rows in the provided data.'.format(len(df.columns), len(df)))\n",
        "\n",
        "print('Below is the dataset\\'s composition')\n",
        "print(df[dep_var].value_counts())"
      ],
      "execution_count": 12,
      "outputs": [
        {
          "output_type": "stream",
          "text": [
            "There are 80 columns and 16273 rows in the provided data.\n",
            "Below is the dataset's composition\n",
            "spam          5342\n",
            "malware       4440\n",
            "phishing      4014\n",
            "Defacement    2477\n",
            "Name: URL_Type_obf_Type, dtype: int64\n"
          ],
          "name": "stdout"
        }
      ]
    },
    {
      "cell_type": "code",
      "metadata": {
        "id": "BV6CGdSwKFLU",
        "colab_type": "code",
        "colab": {}
      },
      "source": [
        "# Create the X (data) and y (labels)\n",
        "X = normalize( df.loc[:, df.columns != dep_var] )\n",
        "y = df[dep_var]"
      ],
      "execution_count": 13,
      "outputs": []
    },
    {
      "cell_type": "markdown",
      "metadata": {
        "id": "WYTGuZiTKFLb",
        "colab_type": "text"
      },
      "source": [
        "## Multi-class Experiments"
      ]
    },
    {
      "cell_type": "code",
      "metadata": {
        "tags": [],
        "id": "R0PDbsRnKFLd",
        "colab_type": "code",
        "colab": {
          "base_uri": "https://localhost:8080/",
          "height": 1000
        },
        "outputId": "55ceb4f8-fe4c-4274-db29-ad18de9045f3"
      },
      "source": [
        "fig = plt.figure()\n",
        "multi_performance_metrics = {}\n",
        "for i in range(2, len(best_features_multiclass), 2):\n",
        "    features = best_features_multiclass[:i]\n",
        "    multi_performance_metrics[i] = train_and_eval_on(X=X, y=y, feature_set=features)\n",
        "\n",
        "    #print(performance_metrics)\n",
        "\n",
        "    #show_graph(figure=fig, feature_count=len(features), metrics_dict=multi_performance_metrics)"
      ],
      "execution_count": null,
      "outputs": [
        {
          "output_type": "stream",
          "text": [
            "Training with 2 features\n"
          ],
          "name": "stdout"
        },
        {
          "output_type": "display_data",
          "data": {
            "text/html": [
              "<table border=\"1\" class=\"dataframe\">\n",
              "  <thead>\n",
              "    <tr style=\"text-align: left;\">\n",
              "      <th>epoch</th>\n",
              "      <th>train_loss</th>\n",
              "      <th>valid_loss</th>\n",
              "      <th>accuracy</th>\n",
              "      <th>time</th>\n",
              "    </tr>\n",
              "  </thead>\n",
              "  <tbody>\n",
              "    <tr>\n",
              "      <td>0</td>\n",
              "      <td>1.110583</td>\n",
              "      <td>1.071720</td>\n",
              "      <td>0.571867</td>\n",
              "      <td>00:01</td>\n",
              "    </tr>\n",
              "    <tr>\n",
              "      <td>1</td>\n",
              "      <td>1.103637</td>\n",
              "      <td>1.074746</td>\n",
              "      <td>0.535627</td>\n",
              "      <td>00:01</td>\n",
              "    </tr>\n",
              "    <tr>\n",
              "      <td>2</td>\n",
              "      <td>1.098418</td>\n",
              "      <td>1.095647</td>\n",
              "      <td>0.503071</td>\n",
              "      <td>00:01</td>\n",
              "    </tr>\n",
              "    <tr>\n",
              "      <td>3</td>\n",
              "      <td>1.062560</td>\n",
              "      <td>1.061092</td>\n",
              "      <td>0.519656</td>\n",
              "      <td>00:01</td>\n",
              "    </tr>\n",
              "    <tr>\n",
              "      <td>4</td>\n",
              "      <td>1.056374</td>\n",
              "      <td>1.043079</td>\n",
              "      <td>0.553440</td>\n",
              "      <td>00:01</td>\n",
              "    </tr>\n",
              "    <tr>\n",
              "      <td>5</td>\n",
              "      <td>1.052302</td>\n",
              "      <td>1.033486</td>\n",
              "      <td>0.559582</td>\n",
              "      <td>00:01</td>\n",
              "    </tr>\n",
              "    <tr>\n",
              "      <td>6</td>\n",
              "      <td>1.022510</td>\n",
              "      <td>1.010191</td>\n",
              "      <td>0.585995</td>\n",
              "      <td>00:01</td>\n",
              "    </tr>\n",
              "    <tr>\n",
              "      <td>7</td>\n",
              "      <td>1.006441</td>\n",
              "      <td>1.022999</td>\n",
              "      <td>0.572482</td>\n",
              "      <td>00:01</td>\n",
              "    </tr>\n",
              "    <tr>\n",
              "      <td>8</td>\n",
              "      <td>0.998285</td>\n",
              "      <td>1.006922</td>\n",
              "      <td>0.579853</td>\n",
              "      <td>00:01</td>\n",
              "    </tr>\n",
              "    <tr>\n",
              "      <td>9</td>\n",
              "      <td>0.986911</td>\n",
              "      <td>1.005000</td>\n",
              "      <td>0.585381</td>\n",
              "      <td>00:01</td>\n",
              "    </tr>\n",
              "  </tbody>\n",
              "</table>"
            ],
            "text/plain": [
              "<IPython.core.display.HTML object>"
            ]
          },
          "metadata": {
            "tags": []
          }
        },
        {
          "output_type": "display_data",
          "data": {
            "text/html": [
              ""
            ],
            "text/plain": [
              "<IPython.core.display.HTML object>"
            ]
          },
          "metadata": {
            "tags": []
          }
        },
        {
          "output_type": "display_data",
          "data": {
            "text/html": [
              "<table border=\"1\" class=\"dataframe\">\n",
              "  <thead>\n",
              "    <tr style=\"text-align: left;\">\n",
              "      <th>epoch</th>\n",
              "      <th>train_loss</th>\n",
              "      <th>valid_loss</th>\n",
              "      <th>accuracy</th>\n",
              "      <th>time</th>\n",
              "    </tr>\n",
              "  </thead>\n",
              "  <tbody>\n",
              "    <tr>\n",
              "      <td>0</td>\n",
              "      <td>1.128849</td>\n",
              "      <td>1.110709</td>\n",
              "      <td>0.469902</td>\n",
              "      <td>00:01</td>\n",
              "    </tr>\n",
              "    <tr>\n",
              "      <td>1</td>\n",
              "      <td>1.106439</td>\n",
              "      <td>1.099159</td>\n",
              "      <td>0.474816</td>\n",
              "      <td>00:01</td>\n",
              "    </tr>\n",
              "    <tr>\n",
              "      <td>2</td>\n",
              "      <td>1.107184</td>\n",
              "      <td>1.050998</td>\n",
              "      <td>0.547297</td>\n",
              "      <td>00:01</td>\n",
              "    </tr>\n",
              "    <tr>\n",
              "      <td>3</td>\n",
              "      <td>1.086268</td>\n",
              "      <td>1.067925</td>\n",
              "      <td>0.475430</td>\n",
              "      <td>00:01</td>\n",
              "    </tr>\n",
              "    <tr>\n",
              "      <td>4</td>\n",
              "      <td>1.087385</td>\n",
              "      <td>1.043869</td>\n",
              "      <td>0.574939</td>\n",
              "      <td>00:01</td>\n",
              "    </tr>\n",
              "    <tr>\n",
              "      <td>5</td>\n",
              "      <td>1.062263</td>\n",
              "      <td>1.038491</td>\n",
              "      <td>0.564496</td>\n",
              "      <td>00:01</td>\n",
              "    </tr>\n",
              "    <tr>\n",
              "      <td>6</td>\n",
              "      <td>1.036456</td>\n",
              "      <td>1.023575</td>\n",
              "      <td>0.551597</td>\n",
              "      <td>00:01</td>\n",
              "    </tr>\n",
              "    <tr>\n",
              "      <td>7</td>\n",
              "      <td>1.023695</td>\n",
              "      <td>0.997023</td>\n",
              "      <td>0.578624</td>\n",
              "      <td>00:01</td>\n",
              "    </tr>\n",
              "    <tr>\n",
              "      <td>8</td>\n",
              "      <td>1.000850</td>\n",
              "      <td>0.982352</td>\n",
              "      <td>0.574324</td>\n",
              "      <td>00:01</td>\n",
              "    </tr>\n",
              "    <tr>\n",
              "      <td>9</td>\n",
              "      <td>0.994022</td>\n",
              "      <td>0.990406</td>\n",
              "      <td>0.585381</td>\n",
              "      <td>00:01</td>\n",
              "    </tr>\n",
              "  </tbody>\n",
              "</table>"
            ],
            "text/plain": [
              "<IPython.core.display.HTML object>"
            ]
          },
          "metadata": {
            "tags": []
          }
        },
        {
          "output_type": "display_data",
          "data": {
            "text/html": [
              ""
            ],
            "text/plain": [
              "<IPython.core.display.HTML object>"
            ]
          },
          "metadata": {
            "tags": []
          }
        },
        {
          "output_type": "display_data",
          "data": {
            "text/html": [
              "<table border=\"1\" class=\"dataframe\">\n",
              "  <thead>\n",
              "    <tr style=\"text-align: left;\">\n",
              "      <th>epoch</th>\n",
              "      <th>train_loss</th>\n",
              "      <th>valid_loss</th>\n",
              "      <th>accuracy</th>\n",
              "      <th>time</th>\n",
              "    </tr>\n",
              "  </thead>\n",
              "  <tbody>\n",
              "    <tr>\n",
              "      <td>0</td>\n",
              "      <td>1.132064</td>\n",
              "      <td>1.096612</td>\n",
              "      <td>0.573710</td>\n",
              "      <td>00:01</td>\n",
              "    </tr>\n",
              "    <tr>\n",
              "      <td>1</td>\n",
              "      <td>1.118686</td>\n",
              "      <td>1.077503</td>\n",
              "      <td>0.498771</td>\n",
              "      <td>00:01</td>\n",
              "    </tr>\n",
              "    <tr>\n",
              "      <td>2</td>\n",
              "      <td>1.097664</td>\n",
              "      <td>1.087104</td>\n",
              "      <td>0.512285</td>\n",
              "      <td>00:01</td>\n",
              "    </tr>\n",
              "    <tr>\n",
              "      <td>3</td>\n",
              "      <td>1.088015</td>\n",
              "      <td>1.109567</td>\n",
              "      <td>0.513514</td>\n",
              "      <td>00:01</td>\n",
              "    </tr>\n",
              "    <tr>\n",
              "      <td>4</td>\n",
              "      <td>1.075947</td>\n",
              "      <td>1.058094</td>\n",
              "      <td>0.568796</td>\n",
              "      <td>00:01</td>\n",
              "    </tr>\n",
              "    <tr>\n",
              "      <td>5</td>\n",
              "      <td>1.043653</td>\n",
              "      <td>1.017134</td>\n",
              "      <td>0.599509</td>\n",
              "      <td>00:01</td>\n",
              "    </tr>\n",
              "    <tr>\n",
              "      <td>6</td>\n",
              "      <td>1.032860</td>\n",
              "      <td>1.041341</td>\n",
              "      <td>0.525798</td>\n",
              "      <td>00:03</td>\n",
              "    </tr>\n",
              "    <tr>\n",
              "      <td>7</td>\n",
              "      <td>1.024867</td>\n",
              "      <td>0.990070</td>\n",
              "      <td>0.593366</td>\n",
              "      <td>00:03</td>\n",
              "    </tr>\n",
              "    <tr>\n",
              "      <td>8</td>\n",
              "      <td>0.996238</td>\n",
              "      <td>0.977170</td>\n",
              "      <td>0.599509</td>\n",
              "      <td>00:02</td>\n",
              "    </tr>\n",
              "    <tr>\n",
              "      <td>9</td>\n",
              "      <td>1.012815</td>\n",
              "      <td>0.992363</td>\n",
              "      <td>0.595209</td>\n",
              "      <td>00:01</td>\n",
              "    </tr>\n",
              "  </tbody>\n",
              "</table>"
            ],
            "text/plain": [
              "<IPython.core.display.HTML object>"
            ]
          },
          "metadata": {
            "tags": []
          }
        },
        {
          "output_type": "display_data",
          "data": {
            "text/html": [
              ""
            ],
            "text/plain": [
              "<IPython.core.display.HTML object>"
            ]
          },
          "metadata": {
            "tags": []
          }
        },
        {
          "output_type": "display_data",
          "data": {
            "text/html": [
              "<table border=\"1\" class=\"dataframe\">\n",
              "  <thead>\n",
              "    <tr style=\"text-align: left;\">\n",
              "      <th>epoch</th>\n",
              "      <th>train_loss</th>\n",
              "      <th>valid_loss</th>\n",
              "      <th>accuracy</th>\n",
              "      <th>time</th>\n",
              "    </tr>\n",
              "  </thead>\n",
              "  <tbody>\n",
              "    <tr>\n",
              "      <td>0</td>\n",
              "      <td>1.134123</td>\n",
              "      <td>1.104150</td>\n",
              "      <td>0.490473</td>\n",
              "      <td>00:01</td>\n",
              "    </tr>\n",
              "    <tr>\n",
              "      <td>1</td>\n",
              "      <td>1.085801</td>\n",
              "      <td>1.076920</td>\n",
              "      <td>0.500307</td>\n",
              "      <td>00:01</td>\n",
              "    </tr>\n",
              "    <tr>\n",
              "      <td>2</td>\n",
              "      <td>1.082066</td>\n",
              "      <td>1.049520</td>\n",
              "      <td>0.559926</td>\n",
              "      <td>00:01</td>\n",
              "    </tr>\n",
              "    <tr>\n",
              "      <td>3</td>\n",
              "      <td>1.077985</td>\n",
              "      <td>1.100998</td>\n",
              "      <td>0.519361</td>\n",
              "      <td>00:01</td>\n",
              "    </tr>\n",
              "    <tr>\n",
              "      <td>4</td>\n",
              "      <td>1.071110</td>\n",
              "      <td>1.050578</td>\n",
              "      <td>0.547019</td>\n",
              "      <td>00:01</td>\n",
              "    </tr>\n",
              "    <tr>\n",
              "      <td>5</td>\n",
              "      <td>1.037775</td>\n",
              "      <td>1.013234</td>\n",
              "      <td>0.563614</td>\n",
              "      <td>00:01</td>\n",
              "    </tr>\n",
              "    <tr>\n",
              "      <td>6</td>\n",
              "      <td>1.030368</td>\n",
              "      <td>0.996376</td>\n",
              "      <td>0.591272</td>\n",
              "      <td>00:01</td>\n",
              "    </tr>\n",
              "    <tr>\n",
              "      <td>7</td>\n",
              "      <td>1.014747</td>\n",
              "      <td>0.983869</td>\n",
              "      <td>0.591887</td>\n",
              "      <td>00:01</td>\n",
              "    </tr>\n",
              "    <tr>\n",
              "      <td>8</td>\n",
              "      <td>1.002562</td>\n",
              "      <td>0.960832</td>\n",
              "      <td>0.598033</td>\n",
              "      <td>00:01</td>\n",
              "    </tr>\n",
              "    <tr>\n",
              "      <td>9</td>\n",
              "      <td>1.004974</td>\n",
              "      <td>0.971597</td>\n",
              "      <td>0.596189</td>\n",
              "      <td>00:01</td>\n",
              "    </tr>\n",
              "  </tbody>\n",
              "</table>"
            ],
            "text/plain": [
              "<IPython.core.display.HTML object>"
            ]
          },
          "metadata": {
            "tags": []
          }
        },
        {
          "output_type": "display_data",
          "data": {
            "text/html": [
              ""
            ],
            "text/plain": [
              "<IPython.core.display.HTML object>"
            ]
          },
          "metadata": {
            "tags": []
          }
        },
        {
          "output_type": "display_data",
          "data": {
            "text/html": [
              "<table border=\"1\" class=\"dataframe\">\n",
              "  <thead>\n",
              "    <tr style=\"text-align: left;\">\n",
              "      <th>epoch</th>\n",
              "      <th>train_loss</th>\n",
              "      <th>valid_loss</th>\n",
              "      <th>accuracy</th>\n",
              "      <th>time</th>\n",
              "    </tr>\n",
              "  </thead>\n",
              "  <tbody>\n",
              "    <tr>\n",
              "      <td>0</td>\n",
              "      <td>1.114702</td>\n",
              "      <td>1.123524</td>\n",
              "      <td>0.545175</td>\n",
              "      <td>00:01</td>\n",
              "    </tr>\n",
              "    <tr>\n",
              "      <td>1</td>\n",
              "      <td>1.088675</td>\n",
              "      <td>1.078140</td>\n",
              "      <td>0.545790</td>\n",
              "      <td>00:01</td>\n",
              "    </tr>\n",
              "    <tr>\n",
              "      <td>2</td>\n",
              "      <td>1.086428</td>\n",
              "      <td>1.099958</td>\n",
              "      <td>0.529809</td>\n",
              "      <td>00:01</td>\n",
              "    </tr>\n",
              "    <tr>\n",
              "      <td>3</td>\n",
              "      <td>1.083001</td>\n",
              "      <td>1.071100</td>\n",
              "      <td>0.566687</td>\n",
              "      <td>00:01</td>\n",
              "    </tr>\n",
              "    <tr>\n",
              "      <td>4</td>\n",
              "      <td>1.050126</td>\n",
              "      <td>1.056392</td>\n",
              "      <td>0.539644</td>\n",
              "      <td>00:01</td>\n",
              "    </tr>\n",
              "    <tr>\n",
              "      <td>5</td>\n",
              "      <td>1.034163</td>\n",
              "      <td>1.026158</td>\n",
              "      <td>0.582053</td>\n",
              "      <td>00:01</td>\n",
              "    </tr>\n",
              "    <tr>\n",
              "      <td>6</td>\n",
              "      <td>1.027318</td>\n",
              "      <td>1.038085</td>\n",
              "      <td>0.567916</td>\n",
              "      <td>00:01</td>\n",
              "    </tr>\n",
              "    <tr>\n",
              "      <td>7</td>\n",
              "      <td>1.001710</td>\n",
              "      <td>1.029008</td>\n",
              "      <td>0.580824</td>\n",
              "      <td>00:01</td>\n",
              "    </tr>\n",
              "    <tr>\n",
              "      <td>8</td>\n",
              "      <td>1.004863</td>\n",
              "      <td>1.018313</td>\n",
              "      <td>0.577136</td>\n",
              "      <td>00:01</td>\n",
              "    </tr>\n",
              "    <tr>\n",
              "      <td>9</td>\n",
              "      <td>1.002007</td>\n",
              "      <td>1.028803</td>\n",
              "      <td>0.582053</td>\n",
              "      <td>00:01</td>\n",
              "    </tr>\n",
              "  </tbody>\n",
              "</table>"
            ],
            "text/plain": [
              "<IPython.core.display.HTML object>"
            ]
          },
          "metadata": {
            "tags": []
          }
        },
        {
          "output_type": "display_data",
          "data": {
            "text/html": [
              ""
            ],
            "text/plain": [
              "<IPython.core.display.HTML object>"
            ]
          },
          "metadata": {
            "tags": []
          }
        },
        {
          "output_type": "display_data",
          "data": {
            "text/html": [
              "<table border=\"1\" class=\"dataframe\">\n",
              "  <thead>\n",
              "    <tr style=\"text-align: left;\">\n",
              "      <th>epoch</th>\n",
              "      <th>train_loss</th>\n",
              "      <th>valid_loss</th>\n",
              "      <th>accuracy</th>\n",
              "      <th>time</th>\n",
              "    </tr>\n",
              "  </thead>\n",
              "  <tbody>\n",
              "    <tr>\n",
              "      <td>0</td>\n",
              "      <td>1.111268</td>\n",
              "      <td>1.075017</td>\n",
              "      <td>0.503380</td>\n",
              "      <td>00:01</td>\n",
              "    </tr>\n",
              "    <tr>\n",
              "      <td>1</td>\n",
              "      <td>1.106601</td>\n",
              "      <td>1.088288</td>\n",
              "      <td>0.468961</td>\n",
              "      <td>00:01</td>\n",
              "    </tr>\n",
              "    <tr>\n",
              "      <td>2</td>\n",
              "      <td>1.092677</td>\n",
              "      <td>1.056934</td>\n",
              "      <td>0.554395</td>\n",
              "      <td>00:01</td>\n",
              "    </tr>\n",
              "    <tr>\n",
              "      <td>3</td>\n",
              "      <td>1.082258</td>\n",
              "      <td>1.052013</td>\n",
              "      <td>0.558697</td>\n",
              "      <td>00:01</td>\n",
              "    </tr>\n",
              "    <tr>\n",
              "      <td>4</td>\n",
              "      <td>1.051794</td>\n",
              "      <td>1.045982</td>\n",
              "      <td>0.578980</td>\n",
              "      <td>00:01</td>\n",
              "    </tr>\n",
              "    <tr>\n",
              "      <td>5</td>\n",
              "      <td>1.055709</td>\n",
              "      <td>1.045896</td>\n",
              "      <td>0.557468</td>\n",
              "      <td>00:01</td>\n",
              "    </tr>\n",
              "    <tr>\n",
              "      <td>6</td>\n",
              "      <td>1.034334</td>\n",
              "      <td>0.998661</td>\n",
              "      <td>0.577750</td>\n",
              "      <td>00:01</td>\n",
              "    </tr>\n",
              "    <tr>\n",
              "      <td>7</td>\n",
              "      <td>1.014463</td>\n",
              "      <td>1.010445</td>\n",
              "      <td>0.586355</td>\n",
              "      <td>00:01</td>\n",
              "    </tr>\n",
              "    <tr>\n",
              "      <td>8</td>\n",
              "      <td>0.993960</td>\n",
              "      <td>0.994215</td>\n",
              "      <td>0.597419</td>\n",
              "      <td>00:01</td>\n",
              "    </tr>\n",
              "    <tr>\n",
              "      <td>9</td>\n",
              "      <td>1.009976</td>\n",
              "      <td>0.989362</td>\n",
              "      <td>0.596189</td>\n",
              "      <td>00:01</td>\n",
              "    </tr>\n",
              "  </tbody>\n",
              "</table>"
            ],
            "text/plain": [
              "<IPython.core.display.HTML object>"
            ]
          },
          "metadata": {
            "tags": []
          }
        },
        {
          "output_type": "display_data",
          "data": {
            "text/html": [
              ""
            ],
            "text/plain": [
              "<IPython.core.display.HTML object>"
            ]
          },
          "metadata": {
            "tags": []
          }
        },
        {
          "output_type": "display_data",
          "data": {
            "text/html": [
              "<table border=\"1\" class=\"dataframe\">\n",
              "  <thead>\n",
              "    <tr style=\"text-align: left;\">\n",
              "      <th>epoch</th>\n",
              "      <th>train_loss</th>\n",
              "      <th>valid_loss</th>\n",
              "      <th>accuracy</th>\n",
              "      <th>time</th>\n",
              "    </tr>\n",
              "  </thead>\n",
              "  <tbody>\n",
              "    <tr>\n",
              "      <td>0</td>\n",
              "      <td>1.127138</td>\n",
              "      <td>1.110981</td>\n",
              "      <td>0.547019</td>\n",
              "      <td>00:01</td>\n",
              "    </tr>\n",
              "    <tr>\n",
              "      <td>1</td>\n",
              "      <td>1.099079</td>\n",
              "      <td>1.118667</td>\n",
              "      <td>0.563614</td>\n",
              "      <td>00:01</td>\n",
              "    </tr>\n",
              "    <tr>\n",
              "      <td>2</td>\n",
              "      <td>1.093352</td>\n",
              "      <td>1.117353</td>\n",
              "      <td>0.527351</td>\n",
              "      <td>00:01</td>\n",
              "    </tr>\n",
              "    <tr>\n",
              "      <td>3</td>\n",
              "      <td>1.066450</td>\n",
              "      <td>1.148693</td>\n",
              "      <td>0.507683</td>\n",
              "      <td>00:01</td>\n",
              "    </tr>\n",
              "    <tr>\n",
              "      <td>4</td>\n",
              "      <td>1.058412</td>\n",
              "      <td>1.093658</td>\n",
              "      <td>0.568531</td>\n",
              "      <td>00:01</td>\n",
              "    </tr>\n",
              "    <tr>\n",
              "      <td>5</td>\n",
              "      <td>1.043879</td>\n",
              "      <td>1.097445</td>\n",
              "      <td>0.518746</td>\n",
              "      <td>00:01</td>\n",
              "    </tr>\n",
              "    <tr>\n",
              "      <td>6</td>\n",
              "      <td>1.041556</td>\n",
              "      <td>1.073303</td>\n",
              "      <td>0.555009</td>\n",
              "      <td>00:01</td>\n",
              "    </tr>\n",
              "    <tr>\n",
              "      <td>7</td>\n",
              "      <td>1.010472</td>\n",
              "      <td>1.026053</td>\n",
              "      <td>0.573448</td>\n",
              "      <td>00:01</td>\n",
              "    </tr>\n",
              "    <tr>\n",
              "      <td>8</td>\n",
              "      <td>0.988209</td>\n",
              "      <td>1.030249</td>\n",
              "      <td>0.577750</td>\n",
              "      <td>00:01</td>\n",
              "    </tr>\n",
              "    <tr>\n",
              "      <td>9</td>\n",
              "      <td>1.000299</td>\n",
              "      <td>1.020025</td>\n",
              "      <td>0.584511</td>\n",
              "      <td>00:01</td>\n",
              "    </tr>\n",
              "  </tbody>\n",
              "</table>"
            ],
            "text/plain": [
              "<IPython.core.display.HTML object>"
            ]
          },
          "metadata": {
            "tags": []
          }
        },
        {
          "output_type": "display_data",
          "data": {
            "text/html": [
              ""
            ],
            "text/plain": [
              "<IPython.core.display.HTML object>"
            ]
          },
          "metadata": {
            "tags": []
          }
        },
        {
          "output_type": "display_data",
          "data": {
            "text/html": [
              "<table border=\"1\" class=\"dataframe\">\n",
              "  <thead>\n",
              "    <tr style=\"text-align: left;\">\n",
              "      <th>epoch</th>\n",
              "      <th>train_loss</th>\n",
              "      <th>valid_loss</th>\n",
              "      <th>accuracy</th>\n",
              "      <th>time</th>\n",
              "    </tr>\n",
              "  </thead>\n",
              "  <tbody>\n",
              "    <tr>\n",
              "      <td>0</td>\n",
              "      <td>1.135596</td>\n",
              "      <td>1.114497</td>\n",
              "      <td>0.480639</td>\n",
              "      <td>00:01</td>\n",
              "    </tr>\n",
              "    <tr>\n",
              "      <td>1</td>\n",
              "      <td>1.097162</td>\n",
              "      <td>1.094719</td>\n",
              "      <td>0.451137</td>\n",
              "      <td>00:01</td>\n",
              "    </tr>\n",
              "    <tr>\n",
              "      <td>2</td>\n",
              "      <td>1.068258</td>\n",
              "      <td>1.095032</td>\n",
              "      <td>0.525507</td>\n",
              "      <td>00:01</td>\n",
              "    </tr>\n",
              "    <tr>\n",
              "      <td>3</td>\n",
              "      <td>1.086061</td>\n",
              "      <td>1.097296</td>\n",
              "      <td>0.531653</td>\n",
              "      <td>00:01</td>\n",
              "    </tr>\n",
              "    <tr>\n",
              "      <td>4</td>\n",
              "      <td>1.067765</td>\n",
              "      <td>1.064103</td>\n",
              "      <td>0.537185</td>\n",
              "      <td>00:01</td>\n",
              "    </tr>\n",
              "    <tr>\n",
              "      <td>5</td>\n",
              "      <td>1.032364</td>\n",
              "      <td>1.048988</td>\n",
              "      <td>0.557468</td>\n",
              "      <td>00:01</td>\n",
              "    </tr>\n",
              "    <tr>\n",
              "      <td>6</td>\n",
              "      <td>1.024040</td>\n",
              "      <td>1.030063</td>\n",
              "      <td>0.566073</td>\n",
              "      <td>00:01</td>\n",
              "    </tr>\n",
              "    <tr>\n",
              "      <td>7</td>\n",
              "      <td>1.033904</td>\n",
              "      <td>1.024145</td>\n",
              "      <td>0.575292</td>\n",
              "      <td>00:01</td>\n",
              "    </tr>\n",
              "    <tr>\n",
              "      <td>8</td>\n",
              "      <td>0.998291</td>\n",
              "      <td>1.001745</td>\n",
              "      <td>0.580209</td>\n",
              "      <td>00:01</td>\n",
              "    </tr>\n",
              "    <tr>\n",
              "      <td>9</td>\n",
              "      <td>0.994868</td>\n",
              "      <td>1.019445</td>\n",
              "      <td>0.572833</td>\n",
              "      <td>00:01</td>\n",
              "    </tr>\n",
              "  </tbody>\n",
              "</table>"
            ],
            "text/plain": [
              "<IPython.core.display.HTML object>"
            ]
          },
          "metadata": {
            "tags": []
          }
        },
        {
          "output_type": "display_data",
          "data": {
            "text/html": [
              ""
            ],
            "text/plain": [
              "<IPython.core.display.HTML object>"
            ]
          },
          "metadata": {
            "tags": []
          }
        },
        {
          "output_type": "display_data",
          "data": {
            "text/html": [
              "<table border=\"1\" class=\"dataframe\">\n",
              "  <thead>\n",
              "    <tr style=\"text-align: left;\">\n",
              "      <th>epoch</th>\n",
              "      <th>train_loss</th>\n",
              "      <th>valid_loss</th>\n",
              "      <th>accuracy</th>\n",
              "      <th>time</th>\n",
              "    </tr>\n",
              "  </thead>\n",
              "  <tbody>\n",
              "    <tr>\n",
              "      <td>0</td>\n",
              "      <td>1.116158</td>\n",
              "      <td>1.096651</td>\n",
              "      <td>0.496005</td>\n",
              "      <td>00:01</td>\n",
              "    </tr>\n",
              "    <tr>\n",
              "      <td>1</td>\n",
              "      <td>1.095889</td>\n",
              "      <td>1.078806</td>\n",
              "      <td>0.547019</td>\n",
              "      <td>00:01</td>\n",
              "    </tr>\n",
              "    <tr>\n",
              "      <td>2</td>\n",
              "      <td>1.077348</td>\n",
              "      <td>1.095560</td>\n",
              "      <td>0.492932</td>\n",
              "      <td>00:01</td>\n",
              "    </tr>\n",
              "    <tr>\n",
              "      <td>3</td>\n",
              "      <td>1.085256</td>\n",
              "      <td>1.075775</td>\n",
              "      <td>0.561770</td>\n",
              "      <td>00:01</td>\n",
              "    </tr>\n",
              "    <tr>\n",
              "      <td>4</td>\n",
              "      <td>1.065102</td>\n",
              "      <td>1.061249</td>\n",
              "      <td>0.538414</td>\n",
              "      <td>00:01</td>\n",
              "    </tr>\n",
              "    <tr>\n",
              "      <td>5</td>\n",
              "      <td>1.043327</td>\n",
              "      <td>1.035878</td>\n",
              "      <td>0.561770</td>\n",
              "      <td>00:01</td>\n",
              "    </tr>\n",
              "    <tr>\n",
              "      <td>6</td>\n",
              "      <td>1.041213</td>\n",
              "      <td>1.013498</td>\n",
              "      <td>0.586970</td>\n",
              "      <td>00:01</td>\n",
              "    </tr>\n",
              "    <tr>\n",
              "      <td>7</td>\n",
              "      <td>1.019492</td>\n",
              "      <td>1.010747</td>\n",
              "      <td>0.578365</td>\n",
              "      <td>00:01</td>\n",
              "    </tr>\n",
              "    <tr>\n",
              "      <td>8</td>\n",
              "      <td>1.005185</td>\n",
              "      <td>1.002424</td>\n",
              "      <td>0.582053</td>\n",
              "      <td>00:01</td>\n",
              "    </tr>\n",
              "    <tr>\n",
              "      <td>9</td>\n",
              "      <td>0.992183</td>\n",
              "      <td>0.993859</td>\n",
              "      <td>0.579594</td>\n",
              "      <td>00:01</td>\n",
              "    </tr>\n",
              "  </tbody>\n",
              "</table>"
            ],
            "text/plain": [
              "<IPython.core.display.HTML object>"
            ]
          },
          "metadata": {
            "tags": []
          }
        },
        {
          "output_type": "display_data",
          "data": {
            "text/html": [
              ""
            ],
            "text/plain": [
              "<IPython.core.display.HTML object>"
            ]
          },
          "metadata": {
            "tags": []
          }
        },
        {
          "output_type": "display_data",
          "data": {
            "text/html": [
              "<table border=\"1\" class=\"dataframe\">\n",
              "  <thead>\n",
              "    <tr style=\"text-align: left;\">\n",
              "      <th>epoch</th>\n",
              "      <th>train_loss</th>\n",
              "      <th>valid_loss</th>\n",
              "      <th>accuracy</th>\n",
              "      <th>time</th>\n",
              "    </tr>\n",
              "  </thead>\n",
              "  <tbody>\n",
              "    <tr>\n",
              "      <td>0</td>\n",
              "      <td>1.125437</td>\n",
              "      <td>1.085654</td>\n",
              "      <td>0.547634</td>\n",
              "      <td>00:01</td>\n",
              "    </tr>\n",
              "    <tr>\n",
              "      <td>1</td>\n",
              "      <td>1.097437</td>\n",
              "      <td>1.088609</td>\n",
              "      <td>0.503380</td>\n",
              "      <td>00:01</td>\n",
              "    </tr>\n",
              "    <tr>\n",
              "      <td>2</td>\n",
              "      <td>1.103285</td>\n",
              "      <td>1.064371</td>\n",
              "      <td>0.539029</td>\n",
              "      <td>00:01</td>\n",
              "    </tr>\n",
              "    <tr>\n",
              "      <td>3</td>\n",
              "      <td>1.090901</td>\n",
              "      <td>1.081956</td>\n",
              "      <td>0.505839</td>\n",
              "      <td>00:01</td>\n",
              "    </tr>\n",
              "    <tr>\n",
              "      <td>4</td>\n",
              "      <td>1.068795</td>\n",
              "      <td>1.036165</td>\n",
              "      <td>0.543331</td>\n",
              "      <td>00:01</td>\n",
              "    </tr>\n",
              "    <tr>\n",
              "      <td>5</td>\n",
              "      <td>1.044344</td>\n",
              "      <td>1.015988</td>\n",
              "      <td>0.588199</td>\n",
              "      <td>00:01</td>\n",
              "    </tr>\n",
              "    <tr>\n",
              "      <td>6</td>\n",
              "      <td>1.025469</td>\n",
              "      <td>0.991157</td>\n",
              "      <td>0.595575</td>\n",
              "      <td>00:01</td>\n",
              "    </tr>\n",
              "    <tr>\n",
              "      <td>7</td>\n",
              "      <td>1.024449</td>\n",
              "      <td>0.989645</td>\n",
              "      <td>0.609711</td>\n",
              "      <td>00:01</td>\n",
              "    </tr>\n",
              "    <tr>\n",
              "      <td>8</td>\n",
              "      <td>0.996347</td>\n",
              "      <td>0.964214</td>\n",
              "      <td>0.599262</td>\n",
              "      <td>00:01</td>\n",
              "    </tr>\n",
              "    <tr>\n",
              "      <td>9</td>\n",
              "      <td>0.997119</td>\n",
              "      <td>0.961440</td>\n",
              "      <td>0.602336</td>\n",
              "      <td>00:01</td>\n",
              "    </tr>\n",
              "  </tbody>\n",
              "</table>"
            ],
            "text/plain": [
              "<IPython.core.display.HTML object>"
            ]
          },
          "metadata": {
            "tags": []
          }
        },
        {
          "output_type": "display_data",
          "data": {
            "text/html": [
              ""
            ],
            "text/plain": [
              "<IPython.core.display.HTML object>"
            ]
          },
          "metadata": {
            "tags": []
          }
        },
        {
          "output_type": "stream",
          "text": [
            "Training with 4 features\n"
          ],
          "name": "stdout"
        },
        {
          "output_type": "display_data",
          "data": {
            "text/html": [
              "<table border=\"1\" class=\"dataframe\">\n",
              "  <thead>\n",
              "    <tr style=\"text-align: left;\">\n",
              "      <th>epoch</th>\n",
              "      <th>train_loss</th>\n",
              "      <th>valid_loss</th>\n",
              "      <th>accuracy</th>\n",
              "      <th>time</th>\n",
              "    </tr>\n",
              "  </thead>\n",
              "  <tbody>\n",
              "    <tr>\n",
              "      <td>0</td>\n",
              "      <td>0.987590</td>\n",
              "      <td>0.947072</td>\n",
              "      <td>0.626536</td>\n",
              "      <td>00:01</td>\n",
              "    </tr>\n",
              "    <tr>\n",
              "      <td>1</td>\n",
              "      <td>0.976348</td>\n",
              "      <td>0.901321</td>\n",
              "      <td>0.627764</td>\n",
              "      <td>00:01</td>\n",
              "    </tr>\n",
              "    <tr>\n",
              "      <td>2</td>\n",
              "      <td>0.946430</td>\n",
              "      <td>0.892416</td>\n",
              "      <td>0.644963</td>\n",
              "      <td>00:01</td>\n",
              "    </tr>\n",
              "    <tr>\n",
              "      <td>3</td>\n",
              "      <td>0.908977</td>\n",
              "      <td>0.881436</td>\n",
              "      <td>0.642506</td>\n",
              "      <td>00:01</td>\n",
              "    </tr>\n",
              "    <tr>\n",
              "      <td>4</td>\n",
              "      <td>0.891583</td>\n",
              "      <td>0.836026</td>\n",
              "      <td>0.665233</td>\n",
              "      <td>00:01</td>\n",
              "    </tr>\n",
              "    <tr>\n",
              "      <td>5</td>\n",
              "      <td>0.848760</td>\n",
              "      <td>0.813276</td>\n",
              "      <td>0.665848</td>\n",
              "      <td>00:01</td>\n",
              "    </tr>\n",
              "    <tr>\n",
              "      <td>6</td>\n",
              "      <td>0.847778</td>\n",
              "      <td>0.782494</td>\n",
              "      <td>0.699017</td>\n",
              "      <td>00:01</td>\n",
              "    </tr>\n",
              "    <tr>\n",
              "      <td>7</td>\n",
              "      <td>0.808538</td>\n",
              "      <td>0.752895</td>\n",
              "      <td>0.698403</td>\n",
              "      <td>00:01</td>\n",
              "    </tr>\n",
              "    <tr>\n",
              "      <td>8</td>\n",
              "      <td>0.809018</td>\n",
              "      <td>0.755822</td>\n",
              "      <td>0.695332</td>\n",
              "      <td>00:01</td>\n",
              "    </tr>\n",
              "    <tr>\n",
              "      <td>9</td>\n",
              "      <td>0.796631</td>\n",
              "      <td>0.747047</td>\n",
              "      <td>0.704545</td>\n",
              "      <td>00:01</td>\n",
              "    </tr>\n",
              "  </tbody>\n",
              "</table>"
            ],
            "text/plain": [
              "<IPython.core.display.HTML object>"
            ]
          },
          "metadata": {
            "tags": []
          }
        },
        {
          "output_type": "display_data",
          "data": {
            "text/html": [
              ""
            ],
            "text/plain": [
              "<IPython.core.display.HTML object>"
            ]
          },
          "metadata": {
            "tags": []
          }
        },
        {
          "output_type": "display_data",
          "data": {
            "text/html": [
              "<table border=\"1\" class=\"dataframe\">\n",
              "  <thead>\n",
              "    <tr style=\"text-align: left;\">\n",
              "      <th>epoch</th>\n",
              "      <th>train_loss</th>\n",
              "      <th>valid_loss</th>\n",
              "      <th>accuracy</th>\n",
              "      <th>time</th>\n",
              "    </tr>\n",
              "  </thead>\n",
              "  <tbody>\n",
              "    <tr>\n",
              "      <td>0</td>\n",
              "      <td>1.006846</td>\n",
              "      <td>0.939241</td>\n",
              "      <td>0.558968</td>\n",
              "      <td>00:01</td>\n",
              "    </tr>\n",
              "    <tr>\n",
              "      <td>1</td>\n",
              "      <td>0.977600</td>\n",
              "      <td>0.954036</td>\n",
              "      <td>0.603194</td>\n",
              "      <td>00:01</td>\n",
              "    </tr>\n",
              "    <tr>\n",
              "      <td>2</td>\n",
              "      <td>0.944598</td>\n",
              "      <td>0.896849</td>\n",
              "      <td>0.610565</td>\n",
              "      <td>00:01</td>\n",
              "    </tr>\n",
              "    <tr>\n",
              "      <td>3</td>\n",
              "      <td>0.920224</td>\n",
              "      <td>0.863624</td>\n",
              "      <td>0.662776</td>\n",
              "      <td>00:01</td>\n",
              "    </tr>\n",
              "    <tr>\n",
              "      <td>4</td>\n",
              "      <td>0.896672</td>\n",
              "      <td>0.832294</td>\n",
              "      <td>0.643735</td>\n",
              "      <td>00:01</td>\n",
              "    </tr>\n",
              "    <tr>\n",
              "      <td>5</td>\n",
              "      <td>0.873551</td>\n",
              "      <td>0.790053</td>\n",
              "      <td>0.671376</td>\n",
              "      <td>00:01</td>\n",
              "    </tr>\n",
              "    <tr>\n",
              "      <td>6</td>\n",
              "      <td>0.854769</td>\n",
              "      <td>0.791230</td>\n",
              "      <td>0.664619</td>\n",
              "      <td>00:01</td>\n",
              "    </tr>\n",
              "    <tr>\n",
              "      <td>7</td>\n",
              "      <td>0.838572</td>\n",
              "      <td>0.766597</td>\n",
              "      <td>0.681204</td>\n",
              "      <td>00:01</td>\n",
              "    </tr>\n",
              "    <tr>\n",
              "      <td>8</td>\n",
              "      <td>0.810709</td>\n",
              "      <td>0.723779</td>\n",
              "      <td>0.697174</td>\n",
              "      <td>00:01</td>\n",
              "    </tr>\n",
              "    <tr>\n",
              "      <td>9</td>\n",
              "      <td>0.813435</td>\n",
              "      <td>0.730200</td>\n",
              "      <td>0.699631</td>\n",
              "      <td>00:01</td>\n",
              "    </tr>\n",
              "  </tbody>\n",
              "</table>"
            ],
            "text/plain": [
              "<IPython.core.display.HTML object>"
            ]
          },
          "metadata": {
            "tags": []
          }
        },
        {
          "output_type": "display_data",
          "data": {
            "text/html": [
              ""
            ],
            "text/plain": [
              "<IPython.core.display.HTML object>"
            ]
          },
          "metadata": {
            "tags": []
          }
        },
        {
          "output_type": "display_data",
          "data": {
            "text/html": [
              "\n",
              "    <div>\n",
              "        <style>\n",
              "            /* Turns off some styling */\n",
              "            progress {\n",
              "                /* gets rid of default border in Firefox and Opera. */\n",
              "                border: none;\n",
              "                /* Needs to be in here for Safari polyfill so background images work as expected. */\n",
              "                background-size: auto;\n",
              "            }\n",
              "            .progress-bar-interrupted, .progress-bar-interrupted::-webkit-progress-bar {\n",
              "                background: #F44336;\n",
              "            }\n",
              "        </style>\n",
              "      <progress value='7' class='' max='10' style='width:300px; height:20px; vertical-align: middle;'></progress>\n",
              "      70.00% [7/10 00:12<00:05]\n",
              "    </div>\n",
              "    \n",
              "<table border=\"1\" class=\"dataframe\">\n",
              "  <thead>\n",
              "    <tr style=\"text-align: left;\">\n",
              "      <th>epoch</th>\n",
              "      <th>train_loss</th>\n",
              "      <th>valid_loss</th>\n",
              "      <th>accuracy</th>\n",
              "      <th>time</th>\n",
              "    </tr>\n",
              "  </thead>\n",
              "  <tbody>\n",
              "    <tr>\n",
              "      <td>0</td>\n",
              "      <td>0.987317</td>\n",
              "      <td>0.957667</td>\n",
              "      <td>0.567568</td>\n",
              "      <td>00:01</td>\n",
              "    </tr>\n",
              "    <tr>\n",
              "      <td>1</td>\n",
              "      <td>0.959733</td>\n",
              "      <td>0.907857</td>\n",
              "      <td>0.605651</td>\n",
              "      <td>00:01</td>\n",
              "    </tr>\n",
              "    <tr>\n",
              "      <td>2</td>\n",
              "      <td>0.948086</td>\n",
              "      <td>0.869413</td>\n",
              "      <td>0.649877</td>\n",
              "      <td>00:01</td>\n",
              "    </tr>\n",
              "    <tr>\n",
              "      <td>3</td>\n",
              "      <td>0.911347</td>\n",
              "      <td>0.869461</td>\n",
              "      <td>0.654791</td>\n",
              "      <td>00:01</td>\n",
              "    </tr>\n",
              "    <tr>\n",
              "      <td>4</td>\n",
              "      <td>0.907982</td>\n",
              "      <td>0.837985</td>\n",
              "      <td>0.656020</td>\n",
              "      <td>00:01</td>\n",
              "    </tr>\n",
              "    <tr>\n",
              "      <td>5</td>\n",
              "      <td>0.884369</td>\n",
              "      <td>0.815770</td>\n",
              "      <td>0.675676</td>\n",
              "      <td>00:01</td>\n",
              "    </tr>\n",
              "    <tr>\n",
              "      <td>6</td>\n",
              "      <td>0.837718</td>\n",
              "      <td>0.776726</td>\n",
              "      <td>0.674447</td>\n",
              "      <td>00:01</td>\n",
              "    </tr>\n",
              "  </tbody>\n",
              "</table><p>\n",
              "\n",
              "    <div>\n",
              "        <style>\n",
              "            /* Turns off some styling */\n",
              "            progress {\n",
              "                /* gets rid of default border in Firefox and Opera. */\n",
              "                border: none;\n",
              "                /* Needs to be in here for Safari polyfill so background images work as expected. */\n",
              "                background-size: auto;\n",
              "            }\n",
              "            .progress-bar-interrupted, .progress-bar-interrupted::-webkit-progress-bar {\n",
              "                background: #F44336;\n",
              "            }\n",
              "        </style>\n",
              "      <progress value='38' class='' max='228' style='width:300px; height:20px; vertical-align: middle;'></progress>\n",
              "      16.67% [38/228 00:00<00:01 0.8383]\n",
              "    </div>\n",
              "    "
            ],
            "text/plain": [
              "<IPython.core.display.HTML object>"
            ]
          },
          "metadata": {
            "tags": []
          }
        }
      ]
    },
    {
      "cell_type": "code",
      "metadata": {
        "id": "oee7Ac-sGUHO",
        "colab_type": "code",
        "colab": {}
      },
      "source": [
        "show_graph(figure=fig, feature_count=len(features), metrics_dict=multi_performance_metrics, exp_type='multi')"
      ],
      "execution_count": null,
      "outputs": []
    },
    {
      "cell_type": "code",
      "metadata": {
        "id": "DLNipZ6rXZfA",
        "colab_type": "code",
        "colab": {}
      },
      "source": [
        "fig = plt.figure()\n",
        "multi_performance_metrics = {}\n",
        "for i in range(20):\n",
        "    features = best_features_multiclass[:i]\n",
        "    multi_performance_metrics[i] = train_and_eval_on(X=X, y=y, feature_set=features)\n",
        "\n",
        "    #print(performance_metrics)\n",
        "\n",
        "    #show_graph(figure=fig, feature_count=len(features), metrics_dict=multi_performance_metrics)"
      ],
      "execution_count": null,
      "outputs": []
    },
    {
      "cell_type": "code",
      "metadata": {
        "id": "mZLU6XjF82il",
        "colab_type": "code",
        "colab": {}
      },
      "source": [
        "show_graph(figure=fig, feature_count=len(features), metrics_dict=multi_performance_metrics, exp_type='multi')"
      ],
      "execution_count": null,
      "outputs": []
    },
    {
      "cell_type": "code",
      "metadata": {
        "id": "ehQimuT9j8uk",
        "colab_type": "code",
        "colab": {}
      },
      "source": [
        "# Get the same data for all features multiclass\n",
        "\n",
        "multi_performance_metrics = train_and_eval_on(X=X, y=y, feature_set=best_features_multiclass)"
      ],
      "execution_count": null,
      "outputs": []
    },
    {
      "cell_type": "code",
      "metadata": {
        "id": "AElTzJtvj9a0",
        "colab_type": "code",
        "colab": {}
      },
      "source": [
        "#print(multi_performance_metrics)\n",
        "print('Models\\tAccuracy (%)')\n",
        "for key in multi_performance_metrics.keys():\n",
        "  avg = np.average(multi_performance_metrics[key])\n",
        "  std = np.std(multi_performance_metrics[key])\n",
        "  print('{}\\t{:.2f}\\u00B1{:.2f}'.format(key, avg*100, std*100))"
      ],
      "execution_count": null,
      "outputs": []
    },
    {
      "cell_type": "markdown",
      "metadata": {
        "id": "gSCu4rVUBXMx",
        "colab_type": "text"
      },
      "source": [
        "## Binary Classification\n"
      ]
    },
    {
      "cell_type": "code",
      "metadata": {
        "id": "NAGsp5rRBPw3",
        "colab_type": "code",
        "colab": {}
      },
      "source": [
        "# Convert the dataset to binary class problem\n",
        "print('Before conversion:')\n",
        "print(y.value_counts())\n",
        "\n",
        "y = y.map(lambda label : label if label == 'benign' else 'malicious')\n",
        "\n",
        "print('After conversion:')\n",
        "print(y.value_counts())"
      ],
      "execution_count": null,
      "outputs": []
    },
    {
      "cell_type": "code",
      "metadata": {
        "id": "Bxqn0sa5ByYC",
        "colab_type": "code",
        "colab": {}
      },
      "source": [
        "# Since we are now in the binary classification problem, we need to assign the feature set from best to worst\n",
        "best_features_binclass = ['avgdomaintokenlen', 'charcompvowels', 'Path_LongestWordLength',\n",
        "       'sub-Directory_LongestWordLength', 'NumberRate_URL', 'dld_domain',\n",
        "       'pathDomainRatio', 'Directory_LetterCount', 'isPortEighty',\n",
        "       'Entropy_URL', 'ldl_domain', 'charcompace', 'avgpathtokenlen',\n",
        "       'Arguments_LongestWordLength', 'spcharUrl', 'executable', 'subDirLen',\n",
        "       'pathLength', 'Domain_LongestWordLength', 'SymbolCount_Afterpath',\n",
        "       'URL_sensitiveWord', 'LongestPathTokenLength', 'urlLen',\n",
        "       'URL_Letter_Count', 'longdomaintokenlen', 'delimeter_Domain',\n",
        "       'URL_DigitCount', 'host_letter_count', 'pathurlRatio',\n",
        "       'SymbolCount_Extension', 'host_DigitCount', 'SymbolCount_FileName',\n",
        "       'argDomanRatio', 'delimeter_Count', 'URLQueries_variable',\n",
        "       'ldl_filename', 'Directory_DigitCount', 'path_token_count',\n",
        "       'Entropy_Domain', 'NumberofDotsinURL', 'domainlength',\n",
        "       'Extension_LetterCount', 'LongestVariableValue', 'Query_LetterCount',\n",
        "       'File_name_DigitCount', 'Querylength', 'this.fileExtLen', 'ArgLen',\n",
        "       'SymbolCount_Directoryname', 'ldl_path', 'ldl_url', 'dld_url',\n",
        "       'Query_DigitCount', 'SymbolCount_URL', 'ldl_getArg', 'dld_path',\n",
        "       'domainUrlRatio', 'NumberRate_Domain', 'Extension_DigitCount',\n",
        "       'dld_filename', 'NumberRate_DirectoryName', 'CharacterContinuityRate',\n",
        "       'dld_getArg', 'NumberRate_FileName', 'ArgUrlRatio', 'Entropy_Extension',\n",
        "       'NumberRate_Extension', 'NumberRate_AfterPath', 'Filename_LetterCount',\n",
        "       'Entropy_DirectoryName', 'Entropy_Filename', 'argPathRatio',\n",
        "       'delimeter_path', 'Entropy_Afterpath', 'SymbolCount_Domain', 'tld',\n",
        "       'domain_token_count', 'fileNameLen']\n",
        "best_features_binclass.reverse()\n",
        "print(best_features_binclass[:4])"
      ],
      "execution_count": null,
      "outputs": []
    },
    {
      "cell_type": "code",
      "metadata": {
        "id": "wuWXGJENBQtx",
        "colab_type": "code",
        "colab": {}
      },
      "source": [
        "fig = plt.figure()\n",
        "bin_performance_metrics = {}\n",
        "for i in range(2, len(best_features_binclass), 2):\n",
        "    features = best_features_binclass[:i]\n",
        "    bin_performance_metrics[i] = train_and_eval_on(X=X, y=y, feature_set=features)\n",
        "\n",
        "    #print(performance_metrics)\n",
        "\n",
        "    #show_graph(figure=fig, feature_count=len(features), metrics_dict=bin_performance_metrics)"
      ],
      "execution_count": null,
      "outputs": []
    },
    {
      "cell_type": "code",
      "metadata": {
        "id": "rD27h28qG0xW",
        "colab_type": "code",
        "colab": {}
      },
      "source": [
        "show_graph(figure=fig, feature_count=len(features), metrics_dict=bin_performance_metrics, exp_type='binary')"
      ],
      "execution_count": null,
      "outputs": []
    },
    {
      "cell_type": "code",
      "metadata": {
        "id": "ONG4Wqw38_Ld",
        "colab_type": "code",
        "colab": {}
      },
      "source": [
        "fig = plt.figure()\n",
        "bin_performance_metrics = {}\n",
        "for i in range(20):\n",
        "    features = best_features_binclass[:i]\n",
        "    bin_performance_metrics[i] = train_and_eval_on(X=X, y=y, feature_set=features)\n",
        "\n",
        "    #print(performance_metrics)\n",
        "\n",
        "    #show_graph(figure=fig, feature_count=len(features), metrics_dict=bin_performance_metrics)"
      ],
      "execution_count": null,
      "outputs": []
    },
    {
      "cell_type": "code",
      "metadata": {
        "id": "5tmYP8569BTL",
        "colab_type": "code",
        "colab": {}
      },
      "source": [
        "show_graph(figure=fig, feature_count=len(features), metrics_dict=bin_performance_metrics, exp_type='binary')"
      ],
      "execution_count": null,
      "outputs": []
    },
    {
      "cell_type": "code",
      "metadata": {
        "id": "Z0wxCIIRimtH",
        "colab_type": "code",
        "colab": {}
      },
      "source": [
        "# Get the performance of the models on all features\n",
        "bin_performance_metrics = train_and_eval_on(X=X, y=y, feature_set=best_features_binclass)"
      ],
      "execution_count": null,
      "outputs": []
    },
    {
      "cell_type": "code",
      "metadata": {
        "id": "bwT1bs1cjgkk",
        "colab_type": "code",
        "colab": {}
      },
      "source": [
        "#print(multi_performance_metrics)\n",
        "print('Models\\tAccuracy (%)')\n",
        "for key in bin_performance_metrics.keys():\n",
        "  avg = np.average(bin_performance_metrics[key])\n",
        "  std = np.std(bin_performance_metrics[key])\n",
        "  print('{}\\t{:.2f}\\u00B1{:.2f}'.format(key, avg*100, std*100))"
      ],
      "execution_count": null,
      "outputs": []
    }
  ]
}